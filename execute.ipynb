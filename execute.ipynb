{
 "cells": [
  {
   "cell_type": "code",
   "execution_count": null,
   "source": [
    "#initialization\r\n",
    "import matplotlib.pyplot as plt\r\n",
    "import numpy as np\r\n",
    "\r\n",
    "# importing Qiskit\r\n",
    "from qiskit import IBMQ, Aer, assemble, transpile\r\n",
    "from qiskit import QuantumCircuit, ClassicalRegister, QuantumRegister\r\n",
    "from qiskit.providers.ibmq import least_busy\r\n",
    "from qiskit import execute\r\n",
    "\r\n",
    "# import basic plot tools\r\n",
    "from qiskit.visualization import plot_histogram\r\n",
    "from circuit import initialize, data_load, data_super, oracle, diffuser\r\n",
    "given = [1,5,7,10]\r\n",
    "n = 30 \r\n",
    "task_circuit = QuantumCircuit(n)\r\n",
    "task_circuit.draw()\r\n",
    "\r\n"
   ],
   "outputs": [],
   "metadata": {}
  },
  {
   "cell_type": "code",
   "execution_count": null,
   "source": [
    "initialize(task_circuit)\r\n",
    "task_circuit.draw()\r\n"
   ],
   "outputs": [],
   "metadata": {}
  },
  {
   "cell_type": "code",
   "execution_count": null,
   "source": [
    "data_load(task_circuit, given)\r\n",
    "task_circuit.draw()"
   ],
   "outputs": [],
   "metadata": {}
  },
  {
   "cell_type": "code",
   "execution_count": null,
   "source": [
    "data_super(task_circuit)\r\n",
    "task_circuit.draw()"
   ],
   "outputs": [],
   "metadata": {}
  },
  {
   "cell_type": "code",
   "execution_count": null,
   "source": [
    "for iterate in range(1):\r\n",
    "    oracle(task_circuit)\r\n",
    "    diffuser(task_circuit)\r\n",
    "\r\n",
    "task_circuit.draw()"
   ],
   "outputs": [],
   "metadata": {}
  },
  {
   "cell_type": "code",
   "execution_count": null,
   "source": [
    "backend = Aer.get_backend('statevector_simulator')\r\n",
    "result = execute(task_circuit, backend=backend).result()\r\n",
    "#result.get_data(task_circuit)\r\n",
    "result.get_statevector(task_circuit)\r\n",
    "\r\n"
   ],
   "outputs": [],
   "metadata": {}
  }
 ],
 "metadata": {
  "orig_nbformat": 4,
  "language_info": {
   "name": "python",
   "version": "3.8.11",
   "mimetype": "text/x-python",
   "codemirror_mode": {
    "name": "ipython",
    "version": 3
   },
   "pygments_lexer": "ipython3",
   "nbconvert_exporter": "python",
   "file_extension": ".py"
  },
  "kernelspec": {
   "name": "python3",
   "display_name": "Python 3.8.11 64-bit ('Qiskit': conda)"
  },
  "interpreter": {
   "hash": "0a13e009e9f63a6731009136f404301c4d9925598943f1b626beed0bf92a209a"
  }
 },
 "nbformat": 4,
 "nbformat_minor": 2
}