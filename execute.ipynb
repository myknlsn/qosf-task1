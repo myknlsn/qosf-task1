{
 "cells": [
  {
   "cell_type": "code",
   "execution_count": 1,
   "source": [
    "#initialization\r\n",
    "import matplotlib.pyplot as plt\r\n",
    "import numpy as np\r\n",
    "\r\n",
    "# importing Qiskit\r\n",
    "from qiskit import IBMQ, Aer, assemble, transpile\r\n",
    "from qiskit import QuantumCircuit, ClassicalRegister, QuantumRegister\r\n",
    "from qiskit.providers.ibmq import least_busy\r\n",
    "from qiskit import execute\r\n",
    "\r\n",
    "# import basic plot tools\r\n",
    "from qiskit.visualization import plot_histogram\r\n",
    "from circuit import initialize, data_load, data_super, data_super_reverse, oracle, diffuser\r\n",
    "given = [1,5,7,10]\r\n",
    "n = 30 \r\n",
    "task_circuit = QuantumCircuit(n)\r\n",
    "\r\n",
    "\r\n"
   ],
   "outputs": [],
   "metadata": {}
  },
  {
   "cell_type": "code",
   "execution_count": 2,
   "source": [
    "initialize(task_circuit)\r\n",
    "data_load(task_circuit, given)\r\n"
   ],
   "outputs": [
    {
     "output_type": "execute_result",
     "data": {
      "text/plain": [
       "<qiskit.circuit.quantumcircuit.QuantumCircuit at 0x2c0c7a1b160>"
      ]
     },
     "metadata": {},
     "execution_count": 2
    }
   ],
   "metadata": {}
  },
  {
   "cell_type": "code",
   "execution_count": 3,
   "source": [
    "for iterate in range(2):\r\n",
    "    data_super(task_circuit)\r\n",
    "    oracle(task_circuit)\r\n",
    "    data_super_reverse(task_circuit)\r\n",
    "    diffuser(task_circuit)"
   ],
   "outputs": [],
   "metadata": {}
  },
  {
   "cell_type": "code",
   "execution_count": 4,
   "source": [
    "#backend = Aer.get_backend('statevector_simulator')\r\n",
    "#result = execute(task_circuit, backend=backend).result()\r\n",
    "#result.get_data(task_circuit)\r\n",
    "#result.get_statevector(task_circuit)\r\n",
    "\r\n",
    "\r\n",
    "cr = ClassicalRegister(2,'creg')\r\n",
    "\r\n",
    "task_circuit.add_register(cr)\r\n",
    "task_circuit.measure(0,cr[0])\r\n",
    "task_circuit.measure(1,cr[1])\r\n",
    "aer_sim = Aer.get_backend('aer_simulator')\r\n",
    "qobj = assemble(task_circuit)\r\n",
    "result = aer_sim.run(qobj).result()\r\n",
    "counts = result.get_counts()\r\n",
    "plot_histogram(counts)\r\n"
   ],
   "outputs": [
    {
     "output_type": "stream",
     "name": "stderr",
     "text": [
      "G:\\Conda\\envs\\Qiskit\\lib\\site-packages\\qiskit\\utils\\deprecation.py:62: DeprecationWarning: Using a qobj for run() is deprecated as of qiskit-aer 0.9.0 and will be removed no sooner than 3 months from that release date. Transpiled circuits should now be passed directly using `backend.run(circuits, **run_options).\n",
      "  return func(*args, **kwargs)\n"
     ]
    },
    {
     "output_type": "execute_result",
     "data": {
      "image/png": "[encoded data removed]",
      "text/plain": [
       "<Figure size 504x360 with 1 Axes>"
      ]
     },
     "metadata": {},
     "execution_count": 4
    }
   ],
   "metadata": {}
  }
 ],
 "metadata": {
  "orig_nbformat": 4,
  "language_info": {
   "name": "python",
   "version": "3.8.11",
   "mimetype": "text/x-python",
   "codemirror_mode": {
    "name": "ipython",
    "version": 3
   },
   "pygments_lexer": "ipython3",
   "nbconvert_exporter": "python",
   "file_extension": ".py"
  },
  "kernelspec": {
   "name": "python3",
   "display_name": "Python 3.8.11 64-bit ('Qiskit': conda)"
  },
  "interpreter": {
   "hash": "0a13e009e9f63a6731009136f404301c4d9925598943f1b626beed0bf92a209a"
  }
 },
 "nbformat": 4,
 "nbformat_minor": 2
}